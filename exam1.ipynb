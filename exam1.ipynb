{
  "cells": [
    {
      "cell_type": "markdown",
      "metadata": {
        "id": "view-in-github",
        "colab_type": "text"
      },
      "source": [
        "<a href=\"https://colab.research.google.com/github/Mykie-P/CCADTRL_EXAM_COM222/blob/main/exam1.ipynb\" target=\"_parent\"><img src=\"https://colab.research.google.com/assets/colab-badge.svg\" alt=\"Open In Colab\"/></a>"
      ]
    },
    {
      "cell_type": "markdown",
      "metadata": {
        "id": "yaz2B0KGFehP"
      },
      "source": [
        "# Midterm Exam 💛💙"
      ]
    },
    {
      "cell_type": "markdown",
      "metadata": {
        "id": "_DmK1ONEFehQ"
      },
      "source": [
        "**Instructions** ❗️❗️\n",
        "\n",
        "❌ Do not remove or modify the notebook **sections**, **subsections**, **exam questions** or **any text** in this python notebook\n",
        "\n",
        "✔️ Put your answer in the designated cells below each question"
      ]
    },
    {
      "cell_type": "markdown",
      "metadata": {
        "id": "TMCAXKWCFehR"
      },
      "source": [
        "## Search"
      ]
    },
    {
      "cell_type": "code",
      "execution_count": 81,
      "metadata": {
        "id": "Fy8nEBRRFehR"
      },
      "outputs": [],
      "source": [
        "def linearSearch(my_list, number):\n",
        "\n",
        "    index = 0\n",
        "\n",
        "    for i in my_list:\n",
        "\n",
        "        if my_list[index] == number:\n",
        "            return index\n",
        "\n",
        "        index = index + 1\n",
        "\n",
        "    return -1"
      ]
    },
    {
      "cell_type": "markdown",
      "metadata": {
        "id": "AjAevpueFehS"
      },
      "source": [
        "1. Using **linear search**, write a `findLargestIncrease()` function to find the largest increase in value between two adjacent numbers in your student number `(10 points)`\n",
        "\n",
        "    **Example:**\n",
        "\n",
        "    student_number = [2,0,2,2,6,2,5,1,9,3]\n",
        "\n",
        "    **Expected Output:**\n",
        "\n",
        "    findLargestIncrease(student_number)\n",
        "\n",
        "    Output: Between 1 and 9\n",
        "\n",
        "    **Explanation:**\n",
        "\n",
        "    From this student_number, the largest increase happened from number 1 to number 9"
      ]
    },
    {
      "cell_type": "code",
      "execution_count": 82,
      "metadata": {
        "id": "JE8nEfyJFehS",
        "colab": {
          "base_uri": "https://localhost:8080/"
        },
        "outputId": "e7e25cd4-9fb9-4942-f7b4-c9a6a279fdb0"
      },
      "outputs": [
        {
          "output_type": "stream",
          "name": "stdout",
          "text": [
            "Output: 9\n"
          ]
        }
      ],
      "source": [
        "# put your answer here\n",
        "\n",
        "def findLargestIncrease(student_number):\n",
        "    max_num = 0\n",
        "\n",
        "    for num in student_number:\n",
        "        if 1 <= num <= 9 and num > max_num:\n",
        "            max_num = num\n",
        "\n",
        "    if max_num > 0:\n",
        "        return f\"{max_num}\"\n",
        "    else:\n",
        "        return \"No number between 1 and 9 found in the student number.\"\n",
        "\n",
        "student_number = [2, 0, 2, 2, 1, 0, 6, 5, 8, 9]\n",
        "result = findLargestIncrease(student_number)\n",
        "\n",
        "print(\"Output:\", result)"
      ]
    },
    {
      "cell_type": "markdown",
      "metadata": {
        "id": "nMyr1fNyFehS"
      },
      "source": [
        "2. Using **linear search**, write a `findLargestDecrease()` function to find the largest decrease in value between two adjacent numbers in your student number `(10 points)`\n",
        "\n",
        "    **Example:**\n",
        "\n",
        "    student_number = [2,0,2,2,6,2,5,1,9,3]\n",
        "\n",
        "    **Expected Output:**\n",
        "\n",
        "    findLargestDecrease(student_number)\n",
        "\n",
        "    Output: Between 9 and 3\n",
        "\n",
        "    **Explanation:**\n",
        "\n",
        "    From this student_number, the largest decrease happened from number 9 to number 3"
      ]
    },
    {
      "cell_type": "code",
      "execution_count": 83,
      "metadata": {
        "id": "bfMfQVbVFehS",
        "colab": {
          "base_uri": "https://localhost:8080/"
        },
        "outputId": "eeafa6fd-41ae-4ce7-a02f-daad3279a4bc"
      },
      "outputs": [
        {
          "output_type": "stream",
          "name": "stdout",
          "text": [
            "Output: 3\n"
          ]
        }
      ],
      "source": [
        "# put your answer here\n",
        "\n",
        "def findLargestDecrease(student_number):\n",
        "    largest_decrease = 0\n",
        "    largest_decreasing_number = None\n",
        "\n",
        "    for i in range(len(student_number) - 1):\n",
        "        decrease = student_number[i] - student_number[i + 1]\n",
        "        if decrease > largest_decrease:\n",
        "            largest_decrease = decrease\n",
        "            largest_decreasing_number = student_number[i + 1]\n",
        "\n",
        "    if largest_decreasing_number is not None:\n",
        "        return largest_decreasing_number\n",
        "    else:\n",
        "        return \"No decrease found in the student number.\"\n",
        "\n",
        "student_number = [2, 0, 2, 2, 6, 2, 5, 1, 9, 3]\n",
        "result = findLargestDecrease(student_number)\n",
        "print(\"Output:\", result)"
      ]
    },
    {
      "cell_type": "markdown",
      "metadata": {
        "id": "NtKSQn9QFehS"
      },
      "source": [
        "## Linked List"
      ]
    },
    {
      "cell_type": "code",
      "execution_count": 84,
      "metadata": {
        "id": "0HP5zyJcFehS"
      },
      "outputs": [],
      "source": [
        "class Node:\n",
        "\n",
        "    def __init__(self, data):\n",
        "        self.data = data\n",
        "        self.next = None  # null"
      ]
    },
    {
      "cell_type": "code",
      "execution_count": 85,
      "metadata": {
        "id": "A-8Uefe7FehS"
      },
      "outputs": [],
      "source": [
        "class LinkedList:\n",
        "\n",
        "    def __init__(self):\n",
        "        self.head = None\n",
        "\n",
        "    def traverse(self, node):\n",
        "        while node:\n",
        "            print(node.data, end=\" -> \")\n",
        "            node = node.next"
      ]
    },
    {
      "cell_type": "markdown",
      "metadata": {
        "id": "uPgIJJuSFehT"
      },
      "source": [
        "**Instructions** ❗️❗️\n",
        "\n",
        "Use the pre-defined linked list class/functions to create a linked list"
      ]
    },
    {
      "cell_type": "markdown",
      "metadata": {
        "id": "WIwpW7Q2FehT"
      },
      "source": [
        "1. Create a Singly linked list named **num_list** and print all of its elements. `(5 points)`\n",
        "\n",
        "- **num_list** should contain all digits of your student number.\n",
        "\n",
        "    **Expected Output:**\n",
        "\n",
        "    print(num_list)\n",
        "\n",
        "    [2, 0, 2, 2, 1, 2, 3, 4, 5, 6]"
      ]
    },
    {
      "cell_type": "code",
      "execution_count": 86,
      "metadata": {
        "id": "Lihv0JPiFehT",
        "colab": {
          "base_uri": "https://localhost:8080/"
        },
        "outputId": "d6023e2f-a424-458b-9752-a63d5c7e13d6"
      },
      "outputs": [
        {
          "output_type": "stream",
          "name": "stdout",
          "text": [
            "[2, 0, 2, 2, 1, 2, 3, 4, 5, 6]\n"
          ]
        }
      ],
      "source": [
        "# put your answer here\n",
        "\n",
        "student_number = [2, 0, 2, 2, 1, 2, 3, 4, 5, 6]\n",
        "\n",
        "num_list = LinkedList()\n",
        "\n",
        "for digit in student_number:\n",
        "    new_node = Node(digit)\n",
        "    if num_list.head is None:\n",
        "        num_list.head = new_node\n",
        "    else:\n",
        "        current_node = num_list.head\n",
        "        while current_node.next:\n",
        "            current_node = current_node.next\n",
        "        current_node.next = new_node\n",
        "\n",
        "def print_linked_list(linked_list):\n",
        "    current_node = linked_list.head\n",
        "    elements = []\n",
        "    while current_node:\n",
        "        elements.append(current_node.data)\n",
        "        current_node = current_node.next\n",
        "    print(elements)\n",
        "\n",
        "print_linked_list(num_list)"
      ]
    },
    {
      "cell_type": "markdown",
      "metadata": {
        "id": "dqA2UYrYFehT"
      },
      "source": [
        "2. Write a `hasPrime()` function to test whether a prime number is in the last six digits of **num_list**. `(5 points)`\n",
        "\n",
        "- If a prime number is in the last six digits of **num_list**, the method should return **true**\n",
        "\n",
        "- If a prime number is not in the last six digits of **num_list**, the method should return **false**\n",
        "\n",
        "    **Expected Output:**\n",
        "\n",
        "    hasPrime(num_list)\n",
        "\n",
        "    True"
      ]
    },
    {
      "cell_type": "code",
      "execution_count": 87,
      "metadata": {
        "id": "GYwsQNz5FehT",
        "colab": {
          "base_uri": "https://localhost:8080/"
        },
        "outputId": "5588b280-1326-4f41-8deb-023aa80ee0d5"
      },
      "outputs": [
        {
          "output_type": "stream",
          "name": "stdout",
          "text": [
            "True\n"
          ]
        }
      ],
      "source": [
        "# put your answer here\n",
        "\n",
        "def is_prime(n):\n",
        "    if n <= 1:\n",
        "        return False\n",
        "    if n <= 3:\n",
        "        return True\n",
        "    if n % 2 == 0 or n % 3 == 0:\n",
        "        return False\n",
        "    i = 5\n",
        "    while i * i <= n:\n",
        "        if n % i == 0 or n % (i + 2) == 0:\n",
        "            return False\n",
        "        i += 6\n",
        "    return True\n",
        "\n",
        "def hasPrime(num_list):\n",
        "    current_node = num_list.head\n",
        "    last_six_digits = []\n",
        "    while current_node:\n",
        "        last_six_digits.append(current_node.data)\n",
        "        current_node = current_node.next\n",
        "        if len(last_six_digits) > 6:\n",
        "            last_six_digits.pop(0)\n",
        "\n",
        "    for digit in last_six_digits:\n",
        "        if is_prime(digit):\n",
        "            return True\n",
        "\n",
        "    return False\n",
        "\n",
        "print(hasPrime(num_list))"
      ]
    },
    {
      "cell_type": "markdown",
      "metadata": {
        "id": "5Qb0BOiwFehT"
      },
      "source": [
        "3. Write a `removeZeroes()` function to remove all occurrences of zeroes in **num_list**. `(5 points)`\n",
        "\n",
        "- If a zero is in **num_list**, return **num_list**\n",
        "\n",
        "- If there are no zeroes in **num_list**, return **\"no zeros found\"**\n",
        "\n",
        "    **Expected Output:**\n",
        "\n",
        "    removeZeroes(num_list)\n",
        "\n",
        "    [2, 2, 1, 2, 3, 4, 5, 6]"
      ]
    },
    {
      "cell_type": "code",
      "execution_count": 88,
      "metadata": {
        "id": "k1vAHUYuFehT",
        "colab": {
          "base_uri": "https://localhost:8080/"
        },
        "outputId": "6b588009-716b-466e-b6e6-75f60f05b88c"
      },
      "outputs": [
        {
          "output_type": "stream",
          "name": "stdout",
          "text": [
            "[2, 2, 2, 1, 2, 3, 4, 5, 6]\n"
          ]
        }
      ],
      "source": [
        "# put your answer here\n",
        "\n",
        "def removeZeroes(num_list):\n",
        "    new_list = LinkedList()\n",
        "\n",
        "    current_node = num_list.head\n",
        "    while current_node:\n",
        "        if current_node.data != 0:\n",
        "            new_node = Node(current_node.data)\n",
        "            if new_list.head is None:\n",
        "                new_list.head = new_node\n",
        "            else:\n",
        "                current_new_node = new_list.head\n",
        "                while current_new_node.next:\n",
        "                    current_new_node = current_new_node.next\n",
        "                current_new_node.next = new_node\n",
        "        current_node = current_node.next\n",
        "\n",
        "    if new_list.head is None:\n",
        "        return \"no zeros found\"\n",
        "\n",
        "    return new_list\n",
        "\n",
        "result = removeZeroes(num_list)\n",
        "\n",
        "if result != \"no zeros found\":\n",
        "    def print_linked_list(linked_list):\n",
        "        current_node = linked_list.head\n",
        "        elements = []\n",
        "        while current_node:\n",
        "            elements.append(current_node.data)\n",
        "            current_node = current_node.next\n",
        "        print(elements)\n",
        "\n",
        "    print_linked_list(result)\n",
        "else:\n",
        "    print(result)"
      ]
    },
    {
      "cell_type": "markdown",
      "metadata": {
        "id": "SKAlpglNFehT"
      },
      "source": [
        "4. Insert a dash symbol between the 4th and 5th digit in **num_list**. `(5 points)`\n",
        "\n",
        "    **Expected Output:**\n",
        "\n",
        "    print(num_list)\n",
        "\n",
        "    [2, 0, 2, 2, \"-\", 1, 2, 3, 4, 5, 6]"
      ]
    },
    {
      "cell_type": "code",
      "execution_count": 89,
      "metadata": {
        "id": "vF7fimZ-FehT",
        "colab": {
          "base_uri": "https://localhost:8080/"
        },
        "outputId": "780ba073-3aaf-403e-f47c-5fd51eb75910"
      },
      "outputs": [
        {
          "output_type": "stream",
          "name": "stdout",
          "text": [
            "[2, 0, 2, 2, '-', 1, 2, 3, 4, 5, 6]\n"
          ]
        }
      ],
      "source": [
        "# put your answer here\n",
        "\n",
        "dash_node = Node(\"-\")\n",
        "\n",
        "current_node = num_list.head\n",
        "count = 1\n",
        "while current_node:\n",
        "    if count == 4:\n",
        "        break\n",
        "    current_node = current_node.next\n",
        "    count += 1\n",
        "\n",
        "if count == 4 and current_node:\n",
        "    next_node = current_node.next\n",
        "    current_node.next = dash_node\n",
        "    dash_node.next = next_node\n",
        "\n",
        "def print_linked_list(linked_list):\n",
        "    current_node = linked_list.head\n",
        "    elements = []\n",
        "    while current_node:\n",
        "        elements.append(current_node.data)\n",
        "        current_node = current_node.next\n",
        "    print(elements)\n",
        "\n",
        "print_linked_list(num_list)"
      ]
    },
    {
      "cell_type": "markdown",
      "metadata": {
        "id": "KkC-LgdxFehT"
      },
      "source": [
        "## Stack"
      ]
    },
    {
      "cell_type": "code",
      "execution_count": 90,
      "metadata": {
        "id": "UYTqB1u_FehU"
      },
      "outputs": [],
      "source": [
        "# Creating a stack\n",
        "def create_stack():\n",
        "    stack = []\n",
        "    return stack\n",
        "\n",
        "\n",
        "def print_stack(stack):\n",
        "\n",
        "    if (check_empty(stack)):\n",
        "        return \"stack is empty\"\n",
        "\n",
        "    # Create a copy of the stack and reverse the elements\n",
        "    tempStack = stack.copy()\n",
        "    tempStack.reverse()\n",
        "\n",
        "    # Print all elements using a loop\n",
        "    for i in tempStack:\n",
        "        print(i)\n",
        "\n",
        "    # Delete the copy to free up memory\n",
        "    del tempStack\n",
        "\n",
        "# Creating an empty stack\n",
        "\n",
        "\n",
        "def check_empty(stack):\n",
        "    return len(stack) == 0\n",
        "\n",
        "\n",
        "# Adding items into the stack\n",
        "def push(stack, item):\n",
        "    stack.append(item)\n",
        "    print(\"pushed item: \" + item)\n",
        "\n",
        "\n",
        "# Removing an element from the stack\n",
        "def pop(stack):\n",
        "    if (check_empty(stack)):\n",
        "        return \"stack is empty\"\n",
        "\n",
        "    return stack.pop()\n",
        "\n",
        "\n",
        "def peek(stack):\n",
        "\n",
        "    # Use negative indexing to display the last element of the list\n",
        "    print(stack[-1])"
      ]
    },
    {
      "cell_type": "markdown",
      "metadata": {
        "id": "wLAQchs8FehU"
      },
      "source": [
        "**Instructions** ❗️❗️\n",
        "\n",
        "Use the pre-defined stack class/functions to create a stack"
      ]
    },
    {
      "cell_type": "markdown",
      "metadata": {
        "id": "37cg9BoCFehU"
      },
      "source": [
        "1. Create two (2) stacks named **name_stack** and **num_stack** `(5 points)`\n",
        "\n",
        "- **name_stack** should contain all letters of your first name.\n",
        "- **num_stack** should contain all digits of your student number.\n",
        "\n",
        "    **Expected Output:**\n",
        "\n",
        "    print(name_stack)\n",
        "\n",
        "    ['E', 'L', 'I', 'Z', 'E', 'R']\n",
        "\n",
        "    print(num_stack)\n",
        "\n",
        "    [2,0,2,2,1,2,3,4,5,6]"
      ]
    },
    {
      "cell_type": "code",
      "execution_count": 91,
      "metadata": {
        "id": "HlUIUQzQFehU",
        "colab": {
          "base_uri": "https://localhost:8080/"
        },
        "outputId": "7df1550c-97cf-4ea6-bd1e-419c3ce91684"
      },
      "outputs": [
        {
          "output_type": "stream",
          "name": "stdout",
          "text": [
            "pushed item: M\n",
            "pushed item: Y\n",
            "pushed item: K\n",
            "pushed item: I\n",
            "pushed item: E\n",
            "pushed item: 2\n",
            "pushed item: 0\n",
            "pushed item: 2\n",
            "pushed item: 2\n",
            "pushed item: 1\n",
            "pushed item: 0\n",
            "pushed item: 6\n",
            "pushed item: 5\n",
            "pushed item: 8\n",
            "pushed item: 9\n",
            "\n",
            "name_stack:\n",
            "['M', 'Y', 'K', 'I', 'E']\n",
            "num_stack:\n",
            "[2, 0, 2, 2, 1, 0, 6, 5, 8, 9]\n"
          ]
        }
      ],
      "source": [
        "# put your answer here\n",
        "\n",
        "def create_stack():\n",
        "    stack = []\n",
        "    return stack\n",
        "\n",
        "def print_stack(stack):\n",
        "    if check_empty(stack):\n",
        "        print(\"stack is empty\")\n",
        "    else:\n",
        "        print(stack)\n",
        "\n",
        "def check_empty(stack):\n",
        "    return len(stack) == 0\n",
        "\n",
        "def push(stack, item):\n",
        "    stack.append(item)\n",
        "    print(\"pushed item: \" + str(item))\n",
        "\n",
        "def pop(stack):\n",
        "    if check_empty(stack):\n",
        "        return \"stack is empty\"\n",
        "    return stack.pop()\n",
        "\n",
        "name_stack = create_stack()\n",
        "first_name = \"MYKIE\"\n",
        "\n",
        "for letter in first_name:\n",
        "    push(name_stack, letter)\n",
        "\n",
        "num_stack = create_stack()\n",
        "student_number = \"2022106589\"\n",
        "\n",
        "for digit in student_number:\n",
        "    push(num_stack, int(digit))\n",
        "\n",
        "print(\"\\nname_stack:\")\n",
        "print_stack(name_stack)\n",
        "\n",
        "print(\"num_stack:\")\n",
        "print_stack(num_stack)"
      ]
    },
    {
      "cell_type": "markdown",
      "metadata": {
        "id": "8cySe9LXFehU"
      },
      "source": [
        "2. Create a stack named **my_stack** that follows the following format: `(5 points)`\n",
        "\n",
        "- The first element should be the **5th digit in your student number**\n",
        "- The succeeding elements should be the letters of your **first name**\n",
        "- The last element should be the **last digit of your student number**\n",
        "\n",
        "    **Expected Output:**\n",
        "\n",
        "    my_stack = [1, E, L, I, Z, E, R, 6]"
      ]
    },
    {
      "cell_type": "code",
      "execution_count": 92,
      "metadata": {
        "id": "bEnCoAhjFehU",
        "colab": {
          "base_uri": "https://localhost:8080/"
        },
        "outputId": "4307a6a6-a847-4bb8-9fe3-6ed32f7d8e36"
      },
      "outputs": [
        {
          "output_type": "stream",
          "name": "stdout",
          "text": [
            "my_stack = [1, 'M', 'Y', 'K', 'I', 'E', 9]\n",
            "verifyStack(my_stack) = True\n"
          ]
        }
      ],
      "source": [
        "# put your answer here\n",
        "\n",
        "my_stack = []\n",
        "\n",
        "student_number = \"2022106589\"\n",
        "fifth_digit = int(student_number[4])\n",
        "\n",
        "first_name = \"MYKIE\"\n",
        "\n",
        "my_stack.append(fifth_digit)\n",
        "\n",
        "for letter in first_name:\n",
        "    my_stack.append(letter)\n",
        "\n",
        "last_digit = int(student_number[-1])\n",
        "my_stack.append(last_digit)\n",
        "\n",
        "def verifyStack(stack):\n",
        "    return stack[0] == fifth_digit and stack[-1] == last_digit\n",
        "\n",
        "print(\"my_stack =\", my_stack)\n",
        "print(\"verifyStack(my_stack) =\", verifyStack(my_stack))"
      ]
    },
    {
      "cell_type": "markdown",
      "metadata": {
        "id": "8a8_KP5nFehU"
      },
      "source": [
        "3. Write a `verifyStack()` function that will take in `my_stack` and check if its format has been followed `(10 points)`\n",
        "\n",
        "- Return **True** if the format has been followed\n",
        "- Return **False** if the format was not followed\n",
        "- Verify the format by checking the contents of **my_stack** with **name_stack** and **num_stack**\n",
        "\n",
        "    **Expected Output:**\n",
        "\n",
        "    my_stack = [1, E, L, I, Z, E, R, 6]\n",
        "\n",
        "    verifyStack(my_stack)\n",
        "\n",
        "    True\n",
        "\n",
        "    my_stack = [1, S, L, I, Z, E, R, 7]\n",
        "\n",
        "    verifyStack(my_stack)\n",
        "\n",
        "    False"
      ]
    },
    {
      "cell_type": "code",
      "execution_count": 93,
      "metadata": {
        "id": "RdANSxD0FehU",
        "colab": {
          "base_uri": "https://localhost:8080/"
        },
        "outputId": "815576d0-5a4a-424e-bec6-45d3c44eb797"
      },
      "outputs": [
        {
          "output_type": "stream",
          "name": "stdout",
          "text": [
            "my_stack = ['M', 'Y', 'K', 'I', 'E', 2, 0, 2, 2, 1, 0, 6, 5, 8, 9]\n",
            "verifyStack(my_stack) = False\n",
            "my_stack = [1, 'M', 'Y', 'K', 'I', 'E', 3]\n",
            "verifyStack(my_stack) = False\n"
          ]
        }
      ],
      "source": [
        "name_stack = [\"M\", \"Y\", \"K\", \"I\", \"E\"]\n",
        "num_stack = [2, 0, 2, 2, 1, 0, 6, 5, 8, 9]\n",
        "\n",
        "def verifyStack(my_stack):\n",
        "    if len(my_stack) != len(name_stack) + len(num_stack):\n",
        "        return False\n",
        "\n",
        "    for i in range(len(my_stack)):\n",
        "        if i < len(num_stack):\n",
        "            if my_stack[i] != num_stack[i]:\n",
        "                return False\n",
        "        else:\n",
        "            if my_stack[i] != name_stack[i - len(num_stack)]:\n",
        "                return False\n",
        "\n",
        "    return True\n",
        "\n",
        "my_stack1 = [\"M\", \"Y\", \"K\", \"I\", \"E\", 2, 0, 2, 2, 1, 0, 6, 5, 8, 9]\n",
        "my_stack2 = [1, \"M\", \"Y\", \"K\", \"I\", \"E\", 3]\n",
        "\n",
        "print(\"my_stack =\", my_stack1)\n",
        "print(\"verifyStack(my_stack) =\", verifyStack(my_stack1))\n",
        "\n",
        "print(\"my_stack =\", my_stack2)\n",
        "print(\"verifyStack(my_stack) =\", verifyStack(my_stack2))\n"
      ]
    },
    {
      "cell_type": "markdown",
      "metadata": {
        "id": "UC5C64B2FehU"
      },
      "source": [
        "## Queue"
      ]
    },
    {
      "cell_type": "code",
      "execution_count": 94,
      "metadata": {
        "id": "NJJ0j0LHFehU"
      },
      "outputs": [],
      "source": [
        "class Queue:\n",
        "    def __init__(self):\n",
        "        self.queue = []\n",
        "\n",
        "    # Add an element\n",
        "    def enqueue(self, item):\n",
        "        self.queue.append(item)\n",
        "\n",
        "    # Remove an element\n",
        "    def dequeue(self):\n",
        "        if len(self.queue) < 1:\n",
        "            return None\n",
        "        return self.queue.pop(0)\n",
        "\n",
        "    # Display  the queue\n",
        "    def display(self):\n",
        "        print(self.queue)\n",
        "\n",
        "    def size(self):\n",
        "        return len(self.queue)\n",
        "\n",
        "    def peek(self):\n",
        "        return self.queue[0]"
      ]
    },
    {
      "cell_type": "markdown",
      "metadata": {
        "id": "80OekpbeFehV"
      },
      "source": [
        "**Instructions** ❗️❗️\n",
        "\n",
        "Use the pre-defined queue class/functions to create a Queue"
      ]
    },
    {
      "cell_type": "markdown",
      "metadata": {
        "id": "_Hf0OP5cFehV"
      },
      "source": [
        "1. Create a simple queue named **num_queue** `(5 points)`\n",
        "\n",
        "- **num_queue** should contain all digits of your student number.\n",
        "\n",
        "    **Expected Output:**\n",
        "\n",
        "    print(num_queue)\n",
        "\n",
        "    [2,0,2,2,1,2,3,4,5,6]"
      ]
    },
    {
      "cell_type": "code",
      "execution_count": 95,
      "metadata": {
        "id": "_mgmE4ArFehV",
        "colab": {
          "base_uri": "https://localhost:8080/"
        },
        "outputId": "1af8a7c5-83bb-43ff-b909-e7a49e3191d6"
      },
      "outputs": [
        {
          "output_type": "stream",
          "name": "stdout",
          "text": [
            "[2, 0, 2, 2, 1, 0, 6, 5, 8, 9]\n"
          ]
        }
      ],
      "source": [
        "# put your answer here\n",
        "\n",
        "num_queue = Queue()\n",
        "\n",
        "student_number = \"2022106589\"\n",
        "for digit in student_number:\n",
        "    num_queue.enqueue(int(digit))\n",
        "\n",
        "num_queue.display()"
      ]
    },
    {
      "cell_type": "markdown",
      "metadata": {
        "id": "1pHG8t6DFehV"
      },
      "source": [
        "2. Write a `getMax()` or `getMin()` function for **num_queue** `(5 points)`\n",
        "\n",
        "- If your student number ends with an odd number, create a `getMax()` function that will return the largest number in **num_queue**\n",
        "- If your student number ends with an even number, create a `getMin()` function that will return the lowest number in **num_queue**\n",
        "\n",
        "    **Expected Output for getMax():**\n",
        "\n",
        "    getMax(num_queue)\n",
        "\n",
        "    6\n",
        "\n",
        "    **Expected Output for getMin():**\n",
        "\n",
        "    getMin(num_queue)\n",
        "\n",
        "    0"
      ]
    },
    {
      "cell_type": "code",
      "execution_count": 96,
      "metadata": {
        "id": "itj2U610FehV",
        "colab": {
          "base_uri": "https://localhost:8080/"
        },
        "outputId": "2ba1a684-f4f7-4be1-ab87-bce2f1f3a90e"
      },
      "outputs": [
        {
          "output_type": "stream",
          "name": "stdout",
          "text": [
            "Max: 9\n"
          ]
        }
      ],
      "source": [
        "# put your answer here\n",
        "\n",
        "def getMax(queue):\n",
        "    if queue.size() == 0:\n",
        "        return None\n",
        "\n",
        "    max_value = queue.peek()\n",
        "    for _ in range(queue.size()):\n",
        "        current = queue.dequeue()\n",
        "        max_value = max(max_value, current)\n",
        "        queue.enqueue(current)\n",
        "\n",
        "    return max_value\n",
        "\n",
        "def getMin(queue):\n",
        "    if queue.size() == 0:\n",
        "        return None\n",
        "\n",
        "    min_value = queue.peek()\n",
        "    for _ in range(queue.size()):\n",
        "        current = queue.dequeue()\n",
        "        min_value = min(min_value, current)\n",
        "        queue.enqueue(current)\n",
        "\n",
        "    return min_value\n",
        "\n",
        "num_queue = Queue()\n",
        "student_number = \"2022106589\"\n",
        "for digit in student_number:\n",
        "    num_queue.enqueue(int(digit))\n",
        "\n",
        "if int(student_number[-1]) % 2 == 1:\n",
        "    max_result = getMax(num_queue)\n",
        "    print(f\"Max: {max_result}\")\n",
        "else:\n",
        "    min_result = getMin(num_queue)\n",
        "    print(f\"Min: {min_result}\")"
      ]
    },
    {
      "cell_type": "markdown",
      "metadata": {
        "id": "YkgmP6GwFehV"
      },
      "source": [
        "3. Write a `getOdd()` or `getEven()` function for  **num_queue** `(5 points)`\n",
        "\n",
        "- If your student number ends with an **odd number**, create a `getOdd()` function that will return all odd numbers in **num_queue**\n",
        "- If your student number ends with an **even number**, create a `getEven()` function that will return all even numbers in **num_queue**\n",
        "\n",
        "    **Expected Output for getOdd():**\n",
        "\n",
        "    getOdd(num_queue)\n",
        "\n",
        "    [1, 3, 5]\n",
        "\n",
        "    **Expected Output for getEven():**\n",
        "\n",
        "    getEven(num_queue)\n",
        "\n",
        "    [0, 2, 4, 6]"
      ]
    },
    {
      "cell_type": "code",
      "execution_count": 97,
      "metadata": {
        "id": "2Bc7E1zNFehV",
        "colab": {
          "base_uri": "https://localhost:8080/"
        },
        "outputId": "8387f4b5-4172-4419-ab87-af751b0d12d2"
      },
      "outputs": [
        {
          "output_type": "stream",
          "name": "stdout",
          "text": [
            "Odd: [1, 5, 9]\n"
          ]
        }
      ],
      "source": [
        "# put your answer here\n",
        "\n",
        "def getOdd(queue):\n",
        "    odd_numbers = []\n",
        "    for _ in range(queue.size()):\n",
        "        current = queue.dequeue()\n",
        "        if current % 2 == 1:\n",
        "            odd_numbers.append(current)\n",
        "        queue.enqueue(current)\n",
        "\n",
        "    return odd_numbers\n",
        "\n",
        "def getEven(queue):\n",
        "    even_numbers = []\n",
        "    for _ in range(queue.size()):\n",
        "        current = queue.dequeue()\n",
        "        if current % 2 == 0:\n",
        "            even_numbers.append(current)\n",
        "        queue.enqueue(current)\n",
        "\n",
        "    return even_numbers\n",
        "\n",
        "num_queue = Queue()\n",
        "student_number = \"2022106589\"\n",
        "for digit in student_number:\n",
        "    num_queue.enqueue(int(digit))\n",
        "\n",
        "if int(student_number[-1]) % 2 == 1:\n",
        "    odd_result = getOdd(num_queue)\n",
        "    print(f\"Odd: {odd_result}\")\n",
        "else:\n",
        "    even_result = getEven(num_queue)\n",
        "    print(f\"Even: {even_result}\")\n"
      ]
    },
    {
      "cell_type": "markdown",
      "metadata": {
        "id": "kuzWF5g4FehV"
      },
      "source": [
        "4. Write a `removeDup()` function that will remove all duplicates in **num_queue** `(5 points)`\n",
        "\n",
        "    **Expected Output:**\n",
        "\n",
        "    removeDup(num_queue)\n",
        "\n",
        "    [2,0,1,3,4,5,6]"
      ]
    },
    {
      "cell_type": "code",
      "execution_count": 98,
      "metadata": {
        "id": "I8LeQP8MFehY",
        "colab": {
          "base_uri": "https://localhost:8080/"
        },
        "outputId": "86f7978a-96cd-49a6-a81c-1a999345179d"
      },
      "outputs": [
        {
          "output_type": "stream",
          "name": "stdout",
          "text": [
            "[2, 0, 1, 6, 5, 8, 9]\n"
          ]
        }
      ],
      "source": [
        "# put your answer here\n",
        "\n",
        "def removeDup(queue):\n",
        "    unique_elements = []\n",
        "    while queue.size() > 0:\n",
        "        current = queue.dequeue()\n",
        "        if current not in unique_elements:\n",
        "            unique_elements.append(current)\n",
        "    for element in unique_elements:\n",
        "        queue.enqueue(element)\n",
        "\n",
        "num_queue = Queue()\n",
        "student_number = \"2022106589\"\n",
        "for digit in student_number:\n",
        "    num_queue.enqueue(int(digit))\n",
        "\n",
        "removeDup(num_queue)\n",
        "\n",
        "num_queue.display()"
      ]
    },
    {
      "cell_type": "markdown",
      "metadata": {
        "id": "LVfZTh8YFehZ"
      },
      "source": [
        "## Sort"
      ]
    },
    {
      "cell_type": "markdown",
      "metadata": {
        "id": "bm9lonfzFehZ"
      },
      "source": [
        "**Instructions** ❗️❗️\n",
        "\n",
        "Use the any sorting algoritms"
      ]
    },
    {
      "cell_type": "markdown",
      "metadata": {
        "id": "EJTlxhEdFehZ"
      },
      "source": [
        "1. Using any sorting algorithm, sort the **last 6 digits** of your student number in ascending order `(5 points)`\n",
        "\n",
        "    **Example:**\n",
        "\n",
        "    student_number = [2,0,2,2,6,2,5,1,3,4]\n",
        "\n",
        "    **Expected Output:**\n",
        "\n",
        "    print(student_number)\n",
        "\n",
        "    [2,0,2,2,1,2,3,4,5,6]\n"
      ]
    },
    {
      "cell_type": "code",
      "execution_count": 99,
      "metadata": {
        "id": "MkZKfveOFehZ",
        "colab": {
          "base_uri": "https://localhost:8080/"
        },
        "outputId": "4934de99-228e-4c00-9dfb-69e631998f00"
      },
      "outputs": [
        {
          "output_type": "stream",
          "name": "stdout",
          "text": [
            "[2, 0, 2, 2, 0, 1, 5, 6, 8, 9]\n"
          ]
        }
      ],
      "source": [
        "# put your answer here\n",
        "\n",
        "def quick_sort(arr):\n",
        "    if len(arr) <= 1:\n",
        "        return arr\n",
        "    else:\n",
        "        pivot = arr[0]\n",
        "        less_than_pivot = [x for x in arr[1:] if x <= pivot]\n",
        "        greater_than_pivot = [x for x in arr[1:] if x > pivot]\n",
        "        return quick_sort(less_than_pivot) + [pivot] + quick_sort(greater_than_pivot)\n",
        "\n",
        "student_number = [2, 0, 2, 2, 1, 0, 6, 5, 8, 9]\n",
        "\n",
        "sorted_last_6_digits = quick_sort(student_number[-6:])\n",
        "\n",
        "student_number[-6:] = sorted_last_6_digits\n",
        "\n",
        "print(student_number)"
      ]
    },
    {
      "cell_type": "markdown",
      "metadata": {
        "id": "sC2JZRZMFehZ"
      },
      "source": [
        "2. Using your student_number, separately sort the even numbers in **increasing order** and the odd numbers in **decreasing order** `(15 points)`\n",
        "\n",
        "    **Example:**\n",
        "\n",
        "    student_number = [2,0,2,2,1,2,3,4,5,6]\n",
        "\n",
        "    **Expected Output:**\n",
        "\n",
        "    print(student_number)\n",
        "\n",
        "    [0,2,2,2,2,4,6,5,3,1]"
      ]
    },
    {
      "cell_type": "code",
      "execution_count": 100,
      "metadata": {
        "id": "hWOh_ohcFehZ",
        "colab": {
          "base_uri": "https://localhost:8080/"
        },
        "outputId": "fb6dd969-d8f9-4e5b-9004-cf25ef401343"
      },
      "outputs": [
        {
          "output_type": "stream",
          "name": "stdout",
          "text": [
            "[0, 0, 2, 2, 2, 6, 8, 9, 5, 1]\n"
          ]
        }
      ],
      "source": [
        "# put your answer here\n",
        "\n",
        "def counting_sort(arr, exp):\n",
        "    n = len(arr)\n",
        "    output = [0] * n\n",
        "    count = [0] * 10\n",
        "\n",
        "    for i in range(n):\n",
        "        index = arr[i] // exp\n",
        "        count[index % 10] += 1\n",
        "\n",
        "    for i in range(1, 10):\n",
        "        count[i] += count[i - 1]\n",
        "\n",
        "    i = n - 1\n",
        "    while i >= 0:\n",
        "        index = arr[i] // exp\n",
        "        output[count[index % 10] - 1] = arr[i]\n",
        "        count[index % 10] -= 1\n",
        "        i -= 1\n",
        "\n",
        "    for i in range(n):\n",
        "        arr[i] = output[i]\n",
        "\n",
        "def radix_sort(arr):\n",
        "    even_numbers = [x for x in arr if x % 2 == 0]\n",
        "    odd_numbers = [x for x in arr if x % 2 != 0]\n",
        "\n",
        "    max_even = max(even_numbers) if even_numbers else 0\n",
        "    exp = 1\n",
        "    while max_even // exp > 0:\n",
        "        counting_sort(even_numbers, exp)\n",
        "        exp *= 10\n",
        "\n",
        "    max_odd = max(odd_numbers) if odd_numbers else 0\n",
        "    exp = 1\n",
        "    while max_odd // exp > 0:\n",
        "        counting_sort(odd_numbers, exp)\n",
        "        exp *= 10\n",
        "\n",
        "    sorted_arr = even_numbers + odd_numbers[::-1]\n",
        "\n",
        "    return sorted_arr\n",
        "\n",
        "student_number = [2, 0, 2, 2, 1, 0, 6, 5, 8, 9]\n",
        "\n",
        "sorted_student_number = radix_sort(student_number)\n",
        "print(sorted_student_number)"
      ]
    }
  ],
  "metadata": {
    "kernelspec": {
      "display_name": "Python 3",
      "language": "python",
      "name": "python3"
    },
    "language_info": {
      "codemirror_mode": {
        "name": "ipython",
        "version": 3
      },
      "file_extension": ".py",
      "mimetype": "text/x-python",
      "name": "python",
      "nbconvert_exporter": "python",
      "pygments_lexer": "ipython3",
      "version": "3.9.13"
    },
    "orig_nbformat": 4,
    "colab": {
      "provenance": [],
      "include_colab_link": true
    }
  },
  "nbformat": 4,
  "nbformat_minor": 0
}